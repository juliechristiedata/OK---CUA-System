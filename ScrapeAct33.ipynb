{
 "cells": [
  {
   "cell_type": "markdown",
   "id": "c8ab3f1e-c8c8-4ac6-bee9-1da1cf53e891",
   "metadata": {},
   "source": [
    "![logo](https://resolvephilly.org/themes/custom/resolvephl-ci/logo.svg)\n",
    "\n",
    "# Scraping and standardizing Pennsylvania Act 146 Individual Reports\n",
    "\n",
    "**Author:** Julie Christie | Director of Data & Impact\n",
    "\n",
    "**Partnering Team:** Our Kids\n",
    "\n",
    "**Date:** March 28, 2024"
   ]
  },
  {
   "cell_type": "markdown",
   "id": "05127cca-9b13-4b04-8cae-54c0cb83f456",
   "metadata": {},
   "source": [
    "## Background\n",
    "\n",
    "Pennsylvania publishes reports on child fatalities and near fatalities as a result of child abuse. The reports include the age, sex, county, and date of the incident, as well as whether the family was known to the local department of human/family services in the 16 months preceding the incident. The detailed reports are organized online in a way that can be scraped for some, but not all of the information. The first page of the `.pdf` reports contain the rest of the necessary information.\n",
    "\n",
    "### Goal of Analysis\n",
    "\n",
    "Specifically, Resolve is looking to understand the frequency at which children who experience abuse that results in their death/near death are already known to the system. We are exploring these rates at the county level to understand what the statewide trend is, and whether Philadelphia exceeds that trend.\n",
    "\n",
    "### Glossary\n",
    "\n",
    "-   **Act 146** -- *\"Act 146 of 2006 went into effect on May 8, 2007. A major provision of this law requires that the department prepare a non-identifying summary for the governor and the General Assembly of findings for each case of substantiated child abuse or neglect that has resulted in a child fatality or near fatality.\"*\n",
    "-   **Near fatality** -- *Definition TKTK*\n",
    "-   **DA De-certification** -- *This gets assigned to a report when the District Attorney determines that the incident was not a result of child abuse.*\n",
    "\n",
    "### Data\n",
    "\n",
    "-   [Child Fatality/Near Fatality Quarterly Reports](https://www.pa.gov/en/agencies/dhs/resources/data-reports/quarterly-summaries-child-abuse.html) --- A collection of brief summaries of fatalities/near fatalities of children due to abuse. | No metadata available\n",
    "\n",
    "### Tools\n",
    "\n",
    "-   [Python](python.org) -- *Base code to facilitate scraping*\n",
    "-   [Pandas](https://pandas.pydata.org/) -- *More robust data anlysis*\n",
    "-   [Regex](https://developers.google.com/edu/python/regular-expressions) -- *Regular Expressions, or Regex, to parse out patterns of characters*\n",
    "-   [PDF Plumber](https://github.com/jsvine/pdfplumber) -- *Parse information from .pdf files*\n",
    "-   [Excel](https://www.microsoft.com/en-us/microsoft-365/p/excel/cfq7ttc0hr4r?activetab=pivot:overviewtab) -- *Clean and analyze tabulated data*\n",
    "\n",
    "### Limitations\n",
    "- A \"certifying pysician\" makes an individual call on whether a child's death/near death is the result of abuse, meaning that human error may result in cases not being documented in these reports\n",
    "- Child fatalities and near fatalities as a result of abuse are an incredibly small and extreme subset of the overall abuse that children face. This analysis does not constitute a full picture, but rather is a snapshot of what the state deemed the most egregious cases.\n",
    "- These quarterly reports may not contain all instances. A previous scrape of individual reports rendered about 2,400 reports. This scrape yielded TKTK summaries."
   ]
  },
  {
   "cell_type": "markdown",
   "id": "c75472dc-d4fe-4cc4-9a5c-4d9dfa9a4fad",
   "metadata": {},
   "source": [
    "## Cleaning"
   ]
  },
  {
   "cell_type": "markdown",
   "id": "4c04df14",
   "metadata": {},
   "source": [
    "1. Download all the reports from the Pennsylvania DHS site."
   ]
  },
  {
   "cell_type": "markdown",
   "id": "1670d882-3ba4-4875-bd73-336f68c6b2c0",
   "metadata": {},
   "source": [
    "### Parse single report"
   ]
  },
  {
   "cell_type": "code",
   "execution_count": null,
   "id": "e710e746",
   "metadata": {},
   "outputs": [],
   "source": [
    "pip install pdfplumber"
   ]
  },
  {
   "cell_type": "code",
   "execution_count": null,
   "id": "ec7c9aac",
   "metadata": {},
   "outputs": [],
   "source": [
    "pip install pandas"
   ]
  },
  {
   "cell_type": "markdown",
   "id": "bb6ed53b-9a9d-4c54-9b3f-96ed32c9e202",
   "metadata": {},
   "source": [
    "1. Import the needed libraries"
   ]
  },
  {
   "cell_type": "code",
   "execution_count": 1,
   "id": "c17e0ad5-fb7e-4d7e-bd2d-bddf8b2b380a",
   "metadata": {},
   "outputs": [],
   "source": [
    "import re #regular expressions\n",
    "\n",
    "import pdfplumber\n",
    "import pandas as pd\n",
    "from collections import namedtuple"
   ]
  },
  {
   "cell_type": "markdown",
   "id": "ec58718d",
   "metadata": {},
   "source": [
    "1. Create the column names for the data that you are extracting from the pdf."
   ]
  },
  {
   "cell_type": "code",
   "execution_count": 7,
   "id": "df312dcd-4239-497e-9ed1-751a4b99ff63",
   "metadata": {},
   "outputs": [],
   "source": [
    "Line = namedtuple('Line', 'fatality county age sex date cause perpetrator indicated_date known_to_agency')"
   ]
  },
  {
   "cell_type": "markdown",
   "id": "161293b5",
   "metadata": {},
   "source": [
    "2. Create a list of all 67 counties in PA to match with the different headers of the reports."
   ]
  },
  {
   "cell_type": "code",
   "execution_count": 4,
   "id": "fcf71956",
   "metadata": {},
   "outputs": [],
   "source": [
    "pa_counties = [\"Adams\", \"Allegheny\", \"Armstrong\", \"Beaver\", \"Bedford\", \"Berks\", \"Blair\", \"Bradford\", \"Bucks\", \"Butler\", \"Cambria\", \"Cameron\", \"Carbon\", \"Centre\", \"Chester\", \"Clarion\", \"Clearfield\", \"Clinton\", \"Columbia\", \"Crawford\", \"Cumberland\", \"Dauphin\", \"Delaware\", \"Elk\", \"Erie\", \"Fayette\", \"Forest\", \"Franklin\", \"Fulton\", \"Greene\", \"Huntingdon\", \"Indiana\", \"Jefferson\", \"Juniata\", \"Lackawanna\", \"Lancaster\", \"Lawrence\", \"Lebanon\", \"Lehigh\", \"Luzerne\", \"Lycoming\", \"McKean\", \"Mercer\", \"Mifflin\", \"Monroe\", \"Montgomery\", \"Montour\", \"Northampton\", \"Northumberland\", \"Perry\", \"Philadelphia\", \"Pike\", \"Potter\", \"Schuylkill\", \"Snyder\", \"Somerset\", \"Sullivan\", \"Susquehanna\", \"Tioga\", \"Union\", \"Venango\", \"Warren\", \"Washington\", \"Wayne\", \"Westmoreland\", \"Wyoming\", \"York\"]"
   ]
  },
  {
   "cell_type": "markdown",
   "id": "950cc703",
   "metadata": {},
   "source": [
    "3. All of the documents are organized by listing whether the case was a fatality as nested headers. The below code sets up a regex function that identifies the headers."
   ]
  },
  {
   "cell_type": "code",
   "execution_count": 13,
   "id": "e660bdee",
   "metadata": {},
   "outputs": [],
   "source": [
    "fatality_re = re.compile(r'(Fatalities|Near Fatalities)')\n",
    "line_re = re.compile(r'\\d{1,2}((\\.|(\\)))|\\.(\\)))\\s')"
   ]
  },
  {
   "cell_type": "code",
   "execution_count": 12,
   "id": "b9c9a5ab",
   "metadata": {},
   "outputs": [],
   "source": [
    "line_re.search('')"
   ]
  },
  {
   "cell_type": "markdown",
   "id": "9b285629",
   "metadata": {},
   "source": [
    "4. Set the file for your search"
   ]
  },
  {
   "cell_type": "code",
   "execution_count": 6,
   "id": "62ff0f52",
   "metadata": {},
   "outputs": [],
   "source": [
    "file = 'act_33_quarterly/1st Quarter Summaries of Child Fatalities Near Fatalities (1).pdf'"
   ]
  },
  {
   "cell_type": "markdown",
   "id": "f12f78a8",
   "metadata": {},
   "source": [
    "5. Parse out the data in the report"
   ]
  },
  {
   "cell_type": "code",
   "execution_count": null,
   "id": "b2620717",
   "metadata": {},
   "outputs": [],
   "source": [
    "lines = []\n",
    "\n",
    "with pdfplumber.open(file) as pdf:\n",
    "    pages = pdf.pages\n",
    "    for page in pdf.pages:\n",
    "        text = page.extract_text()\n",
    "        for line in text.split('(\\n|\\r)\\d{1,2}((\\.|(\\)))|\\.(\\)))\\s'):\n",
    "            print(line)\n",
    "            fatality_set = fatality_re.search(line)\n",
    "            if fatality_set:\n",
    "                fatality = fatality_set.group(1)\n",
    "\n",
    "            elif line.startswith(tuple(pa_counties)):\n",
    "                county = line\n",
    "\n",
    "            elif line_re.search(line):\n",
    "                items = line.split()\n",
    "                lines.append(Line(vend_no, vend_name, doctype, *items))\n"
   ]
  }
 ],
 "metadata": {
  "kernelspec": {
   "display_name": "Python 3 (ipykernel)",
   "language": "python",
   "name": "python3"
  },
  "language_info": {
   "codemirror_mode": {
    "name": "ipython",
    "version": 3
   },
   "file_extension": ".py",
   "mimetype": "text/x-python",
   "name": "python",
   "nbconvert_exporter": "python",
   "pygments_lexer": "ipython3",
   "version": "3.12.2"
  }
 },
 "nbformat": 4,
 "nbformat_minor": 5
}
