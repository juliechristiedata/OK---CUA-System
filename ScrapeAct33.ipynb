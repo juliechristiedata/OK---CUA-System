{
 "cells": [
  {
   "cell_type": "markdown",
   "id": "c8ab3f1e-c8c8-4ac6-bee9-1da1cf53e891",
   "metadata": {},
   "source": [
    "![logo](https://resolvephilly.org/themes/custom/resolvephl-ci/logo.svg)\n",
    "\n",
    "# Scraping and standardizing Pennsylvania Act 146 Individual Reports\n",
    "\n",
    "**Author:** Julie Christie | Director of Data & Impact\n",
    "\n",
    "**Partnering Team:** Our Kids\n",
    "\n",
    "**Date:** March 28, 2024"
   ]
  },
  {
   "cell_type": "markdown",
   "id": "05127cca-9b13-4b04-8cae-54c0cb83f456",
   "metadata": {},
   "source": [
    "## Background\n",
    "\n",
    "Pennsylvania publishes reports on child fatalities and near fatalities as a result of child abuse. The reports include the age, sex, county, and date of the incident, as well as whether the family was known to the local department of human/family services in the 16 months preceding the incident. The detailed reports are organized online in a way that can be scraped for some, but not all of the information. The first page of the `.pdf` reports contain the rest of the necessary information.\n",
    "\n",
    "### Goal of Analysis\n",
    "\n",
    "Specifically, Resolve is looking to understand the frequency at which children who experience abuse that results in their death/near death are already known to the system. We are exploring these rates at the county level to understand what the statewide trend is, and whether Philadelphia exceeds that trend.\n",
    "\n",
    "### Glossary\n",
    "\n",
    "-   **Act 146** -- *\"Act 146 of 2006 went into effect on May 8, 2007. A major provision of this law requires that the department prepare a non-identifying summary for the governor and the General Assembly of findings for each case of substantiated child abuse or neglect that has resulted in a child fatality or near fatality.\"*\n",
    "-   **Near fatality** -- *Definition TKTK*\n",
    "-   **DA De-certification** -- *This gets assigned to a report when the District Attorney determines that the incident was not a result of child abuse.*\n",
    "\n",
    "### Data\n",
    "\n",
    "-   [Child Fatality/Near Fatality Quarterly Reports](https://www.pa.gov/en/agencies/dhs/resources/data-reports/quarterly-summaries-child-abuse.html) --- A collection of brief summaries of fatalities/near fatalities of children due to abuse. | No metadata available\n",
    "\n",
    "### Tools\n",
    "\n",
    "-   [Python](python.org) -- *Base code to facilitate scraping*\n",
    "-   [Pandas](https://pandas.pydata.org/) -- *More robust data anlysis*\n",
    "-   [Regex](https://developers.google.com/edu/python/regular-expressions) -- *Regular Expressions, or Regex, to parse out patterns of characters*\n",
    "-   [PDF Plumber](https://github.com/jsvine/pdfplumber) -- *Parse information from .pdf files*\n",
    "-   [Excel](https://www.microsoft.com/en-us/microsoft-365/p/excel/cfq7ttc0hr4r?activetab=pivot:overviewtab) -- *Clean and analyze tabulated data*\n",
    "\n",
    "### Limitations\n",
    "- A \"certifying pysician\" makes an individual call on whether a child's death/near death is the result of abuse, meaning that human error may result in cases not being documented in these reports\n",
    "- Child fatalities and near fatalities as a result of abuse are an incredibly small and extreme subset of the overall abuse that children face. This analysis does not constitute a full picture, but rather is a snapshot of what the state deemed the most egregious cases.\n",
    "- These quarterly reports may not contain all instances. A previous scrape of individual reports rendered about 2,400 reports. This scrape yielded TKTK summaries."
   ]
  },
  {
   "cell_type": "markdown",
   "id": "c75472dc-d4fe-4cc4-9a5c-4d9dfa9a4fad",
   "metadata": {},
   "source": [
    "## Cleaning"
   ]
  },
  {
   "cell_type": "markdown",
   "id": "4c04df14",
   "metadata": {},
   "source": [
    "1. Download all the reports from the Pennsylvania DHS site."
   ]
  },
  {
   "cell_type": "markdown",
   "id": "1670d882-3ba4-4875-bd73-336f68c6b2c0",
   "metadata": {},
   "source": [
    "### Parse single report"
   ]
  },
  {
   "cell_type": "code",
   "execution_count": 1,
   "id": "e710e746",
   "metadata": {},
   "outputs": [
    {
     "name": "stdout",
     "output_type": "stream",
     "text": [
      "Requirement already satisfied: pdfplumber in ./cuaenvironment/lib/python3.12/site-packages (0.11.0)\n",
      "Requirement already satisfied: pdfminer.six==20231228 in ./cuaenvironment/lib/python3.12/site-packages (from pdfplumber) (20231228)\n",
      "Requirement already satisfied: Pillow>=9.1 in ./cuaenvironment/lib/python3.12/site-packages (from pdfplumber) (10.3.0)\n",
      "Requirement already satisfied: pypdfium2>=4.18.0 in ./cuaenvironment/lib/python3.12/site-packages (from pdfplumber) (4.30.0)\n",
      "Requirement already satisfied: charset-normalizer>=2.0.0 in ./cuaenvironment/lib/python3.12/site-packages (from pdfminer.six==20231228->pdfplumber) (3.3.2)\n",
      "Requirement already satisfied: cryptography>=36.0.0 in ./cuaenvironment/lib/python3.12/site-packages (from pdfminer.six==20231228->pdfplumber) (42.0.7)\n",
      "Requirement already satisfied: cffi>=1.12 in ./cuaenvironment/lib/python3.12/site-packages (from cryptography>=36.0.0->pdfminer.six==20231228->pdfplumber) (1.16.0)\n",
      "Requirement already satisfied: pycparser in ./cuaenvironment/lib/python3.12/site-packages (from cffi>=1.12->cryptography>=36.0.0->pdfminer.six==20231228->pdfplumber) (2.22)\n",
      "\n",
      "\u001b[1m[\u001b[0m\u001b[34;49mnotice\u001b[0m\u001b[1;39;49m]\u001b[0m\u001b[39;49m A new release of pip is available: \u001b[0m\u001b[31;49m24.0\u001b[0m\u001b[39;49m -> \u001b[0m\u001b[32;49m24.1.1\u001b[0m\n",
      "\u001b[1m[\u001b[0m\u001b[34;49mnotice\u001b[0m\u001b[1;39;49m]\u001b[0m\u001b[39;49m To update, run: \u001b[0m\u001b[32;49mpip install --upgrade pip\u001b[0m\n",
      "Note: you may need to restart the kernel to use updated packages.\n"
     ]
    }
   ],
   "source": [
    "pip install pdfplumber"
   ]
  },
  {
   "cell_type": "code",
   "execution_count": 2,
   "id": "ec7c9aac",
   "metadata": {},
   "outputs": [
    {
     "name": "stdout",
     "output_type": "stream",
     "text": [
      "Requirement already satisfied: pandas in ./cuaenvironment/lib/python3.12/site-packages (2.2.2)\n",
      "Requirement already satisfied: numpy>=1.26.0 in ./cuaenvironment/lib/python3.12/site-packages (from pandas) (1.26.4)\n",
      "Requirement already satisfied: python-dateutil>=2.8.2 in ./cuaenvironment/lib/python3.12/site-packages (from pandas) (2.9.0.post0)\n",
      "Requirement already satisfied: pytz>=2020.1 in ./cuaenvironment/lib/python3.12/site-packages (from pandas) (2024.1)\n",
      "Requirement already satisfied: tzdata>=2022.7 in ./cuaenvironment/lib/python3.12/site-packages (from pandas) (2024.1)\n",
      "Requirement already satisfied: six>=1.5 in ./cuaenvironment/lib/python3.12/site-packages (from python-dateutil>=2.8.2->pandas) (1.16.0)\n",
      "\n",
      "\u001b[1m[\u001b[0m\u001b[34;49mnotice\u001b[0m\u001b[1;39;49m]\u001b[0m\u001b[39;49m A new release of pip is available: \u001b[0m\u001b[31;49m24.0\u001b[0m\u001b[39;49m -> \u001b[0m\u001b[32;49m24.1.1\u001b[0m\n",
      "\u001b[1m[\u001b[0m\u001b[34;49mnotice\u001b[0m\u001b[1;39;49m]\u001b[0m\u001b[39;49m To update, run: \u001b[0m\u001b[32;49mpip install --upgrade pip\u001b[0m\n",
      "Note: you may need to restart the kernel to use updated packages.\n"
     ]
    }
   ],
   "source": [
    "pip install pandas"
   ]
  },
  {
   "cell_type": "markdown",
   "id": "bb6ed53b-9a9d-4c54-9b3f-96ed32c9e202",
   "metadata": {},
   "source": [
    "1. Import the needed libraries"
   ]
  },
  {
   "cell_type": "code",
   "execution_count": 3,
   "id": "c17e0ad5-fb7e-4d7e-bd2d-bddf8b2b380a",
   "metadata": {},
   "outputs": [],
   "source": [
    "import re #regular expressions\n",
    "\n",
    "import pdfplumber\n",
    "import pandas as pd\n",
    "from collections import namedtuple"
   ]
  },
  {
   "cell_type": "markdown",
   "id": "ec58718d",
   "metadata": {},
   "source": [
    "1. Create the column names for the data that you are extracting from the pdf."
   ]
  },
  {
   "cell_type": "code",
   "execution_count": null,
   "id": "df312dcd-4239-497e-9ed1-751a4b99ff63",
   "metadata": {},
   "outputs": [],
   "source": [
    "Line = namedtuple('Line', 'age sex fatality date cause agency perpetrator indicated_date known_to_agency')"
   ]
  },
  {
   "cell_type": "markdown",
   "id": "950cc703",
   "metadata": {},
   "source": [
    "3. Create a regular expressions function to parse out `known` and `county`"
   ]
  },
  {
   "cell_type": "code",
   "execution_count": null,
   "id": "e660bdee",
   "metadata": {},
   "outputs": [],
   "source": [
    "known_re = re.compile(\n",
    "    \n",
    ")"
   ]
  }
 ],
 "metadata": {
  "kernelspec": {
   "display_name": "Python 3 (ipykernel)",
   "language": "python",
   "name": "python3"
  },
  "language_info": {
   "codemirror_mode": {
    "name": "ipython",
    "version": 3
   },
   "file_extension": ".py",
   "mimetype": "text/x-python",
   "name": "python",
   "nbconvert_exporter": "python",
   "pygments_lexer": "ipython3",
   "version": "3.12.2"
  }
 },
 "nbformat": 4,
 "nbformat_minor": 5
}
