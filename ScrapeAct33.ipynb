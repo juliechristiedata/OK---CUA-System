{
 "cells": [
  {
   "cell_type": "markdown",
   "id": "2e98d6b5-3216-4c01-ba47-21460509dad2",
   "metadata": {},
   "source": [
    "![logo](https://resolvephilly.org/themes/custom/resolvephl-ci/logo.svg)\n",
    "\n",
    "# Scraping and standardizing Pennsylvania Act 146 Quarterly Reports\n",
    "\n",
    "**Author:** Julie Christie | Director of Data & Impact\n",
    "\n",
    "**Partnering Team:** Our Kids\n",
    "\n",
    "**Date:** March 28, 2024"
   ]
  },
  {
   "cell_type": "markdown",
   "id": "05127cca-9b13-4b04-8cae-54c0cb83f456",
   "metadata": {},
   "source": [
    "## Background\n",
    "\n",
    "### Goal of Analysis\n",
    "\n",
    "Pennsylvania's Act 146 reports have a fairly standardized structure to how they are written. Therefore, this code will attempt to scrape the narrative `.pdf` documents and turn them into structured data.\n",
    "\n",
    "Specifically, Resolve is looking to understand the frequency at which children who experience abuse that results in their death/near death are already known to the system.\n",
    "\n",
    "### Glossary\n",
    "\n",
    "-   **Act 146** -- *\"Act 146 of 2006 went into effect on May 8, 2007. A major provision of this law requires that the department prepare a non-identifying summary for the governor and the General Assembly of findings for each case of substantiated child abuse or neglect that has resulted in a child fatality or near fatality.\"*\n",
    "-   **Near fatality** -- *Definition TKTK*\n",
    "\n",
    "### Data\n",
    "\n",
    "-   [Quarterly Summaries of Child Fatalities/Near Fatalities](https://www.dhs.pa.gov/docs/Publications/Pages/Quarterly-Summaries-Child-Abuse.aspx) --- *A narrative `.pdf` document that describes the fatalities and near fatalities of children as a result of abuse or neglect.* \\| [Metadata](URL)\n",
    "\n",
    "### Tools\n",
    "\n",
    "-   [Python](python.org) -- *Base code to facilitate scraping*\n",
    "-   [Pandas](https://pandas.pydata.org/) -- *More robust data anlysis*\n",
    "-   [Regex](https://developers.google.com/edu/python/regular-expressions) -- *Regular Expressions, or Regex, to parse out patterns of characters*\n",
    "\n",
    "### Limitations\n",
    "- A \"certifying pysician\" makes an individual call on whether a child's death/near death is the result of abuse, meaning that human error may result in cases not being documented in these reports\n",
    "- Child fatalities and near fatalities as a result of abuse are an incredibly small and extreme subset of the overall abuse that children face."
   ]
  },
  {
   "cell_type": "markdown",
   "id": "c75472dc-d4fe-4cc4-9a5c-4d9dfa9a4fad",
   "metadata": {},
   "source": [
    "## Cleaning"
   ]
  },
  {
   "cell_type": "markdown",
   "id": "e42baccd-7f6b-4244-a397-fb0cd3e0ba97",
   "metadata": {},
   "source": [
    "1. Develop Regex patterns for paragraphs. Below is an approximation of the structure of the `.pdf` files.\n",
    "\n",
    "```\n",
    "header header header bullshit\n",
    "more header bs\n",
    "\n",
    "Fatalities\n",
    "\n",
    "County Name\n",
    "\n",
    "1. A [age] [sex] person [died/nearly died] on [date]. [Agency] documented the case on [date] and identified [perpetrator(s)]. Details details details details for many sentences. [Family known or not known to agency before incident]\n",
    "\n",
    "2. A [age] [sex] person [died/nearly died] on [date]. [Agency] documented the case on [date] and identified [perpetrator(s)]. Details details details details for many sentences. [Family known or not known to agency before incident]\n",
    "\n",
    "County Name\n",
    "\n",
    "3. A [age] [sex] person [died/nearly died] on [date]. [Agency] documented the case on [date] and identified [perpetrator(s)]. Details details details details for many sentences. [Family known or not known to agency before incident]\n",
    "\n",
    "Near Fatalities\n",
    "\n",
    "County Name\n",
    "\n",
    "4. A [age] [sex] person [died/nearly died] on [date]. [Agency] documented the case on [date] and identified [perpetrator(s)]. Details details details details for many sentences. [Family known or not known to agency before incident]\n",
    "\n",
    "Page number, footer bullshit\n",
    "```"
   ]
  }
 ],
 "metadata": {
  "kernelspec": {
   "display_name": "Python 3 (ipykernel)",
   "language": "python",
   "name": "python3"
  },
  "language_info": {
   "codemirror_mode": {
    "name": "ipython",
    "version": 3
   },
   "file_extension": ".py",
   "mimetype": "text/x-python",
   "name": "python",
   "nbconvert_exporter": "python",
   "pygments_lexer": "ipython3",
   "version": "3.12.2"
  }
 },
 "nbformat": 4,
 "nbformat_minor": 5
}
